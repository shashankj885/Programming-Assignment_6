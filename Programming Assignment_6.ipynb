{
 "cells": [
  {
   "cell_type": "code",
   "execution_count": 50,
   "id": "a518f11f",
   "metadata": {},
   "outputs": [
    {
     "name": "stdout",
     "output_type": "stream",
     "text": [
      "Entre No. whose Factorial needs to be determine=10\n",
      "3628800\n"
     ]
    }
   ],
   "source": [
    "o=int(input(\"Entre No. whose Factorial needs to be determine=\"))\n",
    "if o<0:\n",
    "    print(\"Wrong Input,Try for non Zero input\")\n",
    "elif o==0:\n",
    "    print(1)\n",
    "else:\n",
    "    n=1\n",
    "    for j in range(1,o+1):\n",
    "        j=j*n\n",
    "        n=j\n",
    "    print(j)"
   ]
  },
  {
   "cell_type": "code",
   "execution_count": 52,
   "id": "ded801f5",
   "metadata": {},
   "outputs": [
    {
     "name": "stdout",
     "output_type": "stream",
     "text": [
      "Enter value for Fibaonacci series=3\n",
      "0\n",
      "1\n",
      "1\n"
     ]
    }
   ],
   "source": [
    "m=int(input(\"Enter value for Fibaonacci series=\"))\n",
    "u=0\n",
    "v=1\n",
    "if m<=0:\n",
    "    print(\"Wrong Input,Try for non Zero input\")\n",
    "elif m==1:\n",
    "    print(u,end=\"\\n\")\n",
    "else:  \n",
    "    print(u)\n",
    "    print(v)\n",
    "    for z in range(2,m):\n",
    "        z=u+v\n",
    "        print(z)\n",
    "        u=v\n",
    "        v=z "
   ]
  },
  {
   "cell_type": "code",
   "execution_count": 54,
   "id": "04075f17",
   "metadata": {},
   "outputs": [
    {
     "name": "stdout",
     "output_type": "stream",
     "text": [
      "Enter weight in kg=60\n",
      "Enter height in meters=1.67\n",
      "21.51\n"
     ]
    }
   ],
   "source": [
    "w=float(input(\"Enter weight in kg=\"))\n",
    "h=float(input(\"Enter height in meters=\"))\n",
    "if w>0 and h>0:\n",
    "    BMI=(w/(h**2))\n",
    "    print(round(BMI,2))\n",
    "else:\n",
    "    print(\"Entre w and h greater than zero\")"
   ]
  },
  {
   "cell_type": "code",
   "execution_count": 55,
   "id": "47d1d63c",
   "metadata": {},
   "outputs": [
    {
     "name": "stdout",
     "output_type": "stream",
     "text": [
      "2\n",
      "0.69\n"
     ]
    }
   ],
   "source": [
    "import math\n",
    "l=float(input())\n",
    "print(round(math.log(l),2))"
   ]
  },
  {
   "cell_type": "code",
   "execution_count": 56,
   "id": "4874ddf0",
   "metadata": {},
   "outputs": [
    {
     "name": "stdout",
     "output_type": "stream",
     "text": [
      "Enter a value=2\n",
      "9.0\n"
     ]
    }
   ],
   "source": [
    "n= int(input(\"Enter a value=\"))\n",
    "if n>0:\n",
    "    sum=(n*(n+1)/2)**2\n",
    "    print(sum)\n",
    "else:\n",
    "    print(\"Enter a value greater than zero\")"
   ]
  },
  {
   "cell_type": "code",
   "execution_count": null,
   "id": "b4fcf277",
   "metadata": {},
   "outputs": [],
   "source": []
  }
 ],
 "metadata": {
  "kernelspec": {
   "display_name": "Python 3 (ipykernel)",
   "language": "python",
   "name": "python3"
  },
  "language_info": {
   "codemirror_mode": {
    "name": "ipython",
    "version": 3
   },
   "file_extension": ".py",
   "mimetype": "text/x-python",
   "name": "python",
   "nbconvert_exporter": "python",
   "pygments_lexer": "ipython3",
   "version": "3.9.12"
  }
 },
 "nbformat": 4,
 "nbformat_minor": 5
}
